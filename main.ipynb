{
 "cells": [
  {
   "cell_type": "code",
   "execution_count": 1,
   "metadata": {},
   "outputs": [],
   "source": [
    "import pandas as pd"
   ]
  },
  {
   "cell_type": "code",
   "execution_count": 2,
   "metadata": {},
   "outputs": [],
   "source": [
    "data = pd.read_csv(\"./US_Accidents_March23.csv\")"
   ]
  },
  {
   "cell_type": "code",
   "execution_count": 3,
   "metadata": {},
   "outputs": [],
   "source": [
    "dataset = data.copy()"
   ]
  },
  {
   "cell_type": "code",
   "execution_count": 4,
   "metadata": {},
   "outputs": [
    {
     "data": {
      "text/plain": [
       "Index(['ID', 'Source', 'Severity', 'Start_Time', 'End_Time', 'Start_Lat',\n",
       "       'Start_Lng', 'End_Lat', 'End_Lng', 'Distance(mi)', 'Description',\n",
       "       'Street', 'City', 'County', 'State', 'Zipcode', 'Country', 'Timezone',\n",
       "       'Airport_Code', 'Weather_Timestamp', 'Temperature(F)', 'Wind_Chill(F)',\n",
       "       'Humidity(%)', 'Pressure(in)', 'Visibility(mi)', 'Wind_Direction',\n",
       "       'Wind_Speed(mph)', 'Precipitation(in)', 'Weather_Condition', 'Amenity',\n",
       "       'Bump', 'Crossing', 'Give_Way', 'Junction', 'No_Exit', 'Railway',\n",
       "       'Roundabout', 'Station', 'Stop', 'Traffic_Calming', 'Traffic_Signal',\n",
       "       'Turning_Loop', 'Sunrise_Sunset', 'Civil_Twilight', 'Nautical_Twilight',\n",
       "       'Astronomical_Twilight'],\n",
       "      dtype='object')"
      ]
     },
     "execution_count": 4,
     "metadata": {},
     "output_type": "execute_result"
    }
   ],
   "source": [
    "# Columns in the dataset\n",
    "dataset.columns"
   ]
  },
  {
   "cell_type": "code",
   "execution_count": 5,
   "metadata": {},
   "outputs": [
    {
     "data": {
      "text/html": [
       "<div>\n",
       "<style scoped>\n",
       "    .dataframe tbody tr th:only-of-type {\n",
       "        vertical-align: middle;\n",
       "    }\n",
       "\n",
       "    .dataframe tbody tr th {\n",
       "        vertical-align: top;\n",
       "    }\n",
       "\n",
       "    .dataframe thead th {\n",
       "        text-align: right;\n",
       "    }\n",
       "</style>\n",
       "<table border=\"1\" class=\"dataframe\">\n",
       "  <thead>\n",
       "    <tr style=\"text-align: right;\">\n",
       "      <th></th>\n",
       "      <th>ID</th>\n",
       "      <th>Source</th>\n",
       "      <th>Severity</th>\n",
       "      <th>Start_Time</th>\n",
       "      <th>End_Time</th>\n",
       "      <th>Start_Lat</th>\n",
       "      <th>Start_Lng</th>\n",
       "      <th>End_Lat</th>\n",
       "      <th>End_Lng</th>\n",
       "      <th>Distance(mi)</th>\n",
       "      <th>...</th>\n",
       "      <th>Roundabout</th>\n",
       "      <th>Station</th>\n",
       "      <th>Stop</th>\n",
       "      <th>Traffic_Calming</th>\n",
       "      <th>Traffic_Signal</th>\n",
       "      <th>Turning_Loop</th>\n",
       "      <th>Sunrise_Sunset</th>\n",
       "      <th>Civil_Twilight</th>\n",
       "      <th>Nautical_Twilight</th>\n",
       "      <th>Astronomical_Twilight</th>\n",
       "    </tr>\n",
       "  </thead>\n",
       "  <tbody>\n",
       "    <tr>\n",
       "      <th>0</th>\n",
       "      <td>A-1</td>\n",
       "      <td>Source2</td>\n",
       "      <td>3</td>\n",
       "      <td>2016-02-08 05:46:00</td>\n",
       "      <td>2016-02-08 11:00:00</td>\n",
       "      <td>39.865147</td>\n",
       "      <td>-84.058723</td>\n",
       "      <td>NaN</td>\n",
       "      <td>NaN</td>\n",
       "      <td>0.01</td>\n",
       "      <td>...</td>\n",
       "      <td>False</td>\n",
       "      <td>False</td>\n",
       "      <td>False</td>\n",
       "      <td>False</td>\n",
       "      <td>False</td>\n",
       "      <td>False</td>\n",
       "      <td>Night</td>\n",
       "      <td>Night</td>\n",
       "      <td>Night</td>\n",
       "      <td>Night</td>\n",
       "    </tr>\n",
       "    <tr>\n",
       "      <th>1</th>\n",
       "      <td>A-2</td>\n",
       "      <td>Source2</td>\n",
       "      <td>2</td>\n",
       "      <td>2016-02-08 06:07:59</td>\n",
       "      <td>2016-02-08 06:37:59</td>\n",
       "      <td>39.928059</td>\n",
       "      <td>-82.831184</td>\n",
       "      <td>NaN</td>\n",
       "      <td>NaN</td>\n",
       "      <td>0.01</td>\n",
       "      <td>...</td>\n",
       "      <td>False</td>\n",
       "      <td>False</td>\n",
       "      <td>False</td>\n",
       "      <td>False</td>\n",
       "      <td>False</td>\n",
       "      <td>False</td>\n",
       "      <td>Night</td>\n",
       "      <td>Night</td>\n",
       "      <td>Night</td>\n",
       "      <td>Day</td>\n",
       "    </tr>\n",
       "    <tr>\n",
       "      <th>2</th>\n",
       "      <td>A-3</td>\n",
       "      <td>Source2</td>\n",
       "      <td>2</td>\n",
       "      <td>2016-02-08 06:49:27</td>\n",
       "      <td>2016-02-08 07:19:27</td>\n",
       "      <td>39.063148</td>\n",
       "      <td>-84.032608</td>\n",
       "      <td>NaN</td>\n",
       "      <td>NaN</td>\n",
       "      <td>0.01</td>\n",
       "      <td>...</td>\n",
       "      <td>False</td>\n",
       "      <td>False</td>\n",
       "      <td>False</td>\n",
       "      <td>False</td>\n",
       "      <td>True</td>\n",
       "      <td>False</td>\n",
       "      <td>Night</td>\n",
       "      <td>Night</td>\n",
       "      <td>Day</td>\n",
       "      <td>Day</td>\n",
       "    </tr>\n",
       "    <tr>\n",
       "      <th>3</th>\n",
       "      <td>A-4</td>\n",
       "      <td>Source2</td>\n",
       "      <td>3</td>\n",
       "      <td>2016-02-08 07:23:34</td>\n",
       "      <td>2016-02-08 07:53:34</td>\n",
       "      <td>39.747753</td>\n",
       "      <td>-84.205582</td>\n",
       "      <td>NaN</td>\n",
       "      <td>NaN</td>\n",
       "      <td>0.01</td>\n",
       "      <td>...</td>\n",
       "      <td>False</td>\n",
       "      <td>False</td>\n",
       "      <td>False</td>\n",
       "      <td>False</td>\n",
       "      <td>False</td>\n",
       "      <td>False</td>\n",
       "      <td>Night</td>\n",
       "      <td>Day</td>\n",
       "      <td>Day</td>\n",
       "      <td>Day</td>\n",
       "    </tr>\n",
       "    <tr>\n",
       "      <th>4</th>\n",
       "      <td>A-5</td>\n",
       "      <td>Source2</td>\n",
       "      <td>2</td>\n",
       "      <td>2016-02-08 07:39:07</td>\n",
       "      <td>2016-02-08 08:09:07</td>\n",
       "      <td>39.627781</td>\n",
       "      <td>-84.188354</td>\n",
       "      <td>NaN</td>\n",
       "      <td>NaN</td>\n",
       "      <td>0.01</td>\n",
       "      <td>...</td>\n",
       "      <td>False</td>\n",
       "      <td>False</td>\n",
       "      <td>False</td>\n",
       "      <td>False</td>\n",
       "      <td>True</td>\n",
       "      <td>False</td>\n",
       "      <td>Day</td>\n",
       "      <td>Day</td>\n",
       "      <td>Day</td>\n",
       "      <td>Day</td>\n",
       "    </tr>\n",
       "  </tbody>\n",
       "</table>\n",
       "<p>5 rows × 46 columns</p>\n",
       "</div>"
      ],
      "text/plain": [
       "    ID   Source  Severity           Start_Time             End_Time  \\\n",
       "0  A-1  Source2         3  2016-02-08 05:46:00  2016-02-08 11:00:00   \n",
       "1  A-2  Source2         2  2016-02-08 06:07:59  2016-02-08 06:37:59   \n",
       "2  A-3  Source2         2  2016-02-08 06:49:27  2016-02-08 07:19:27   \n",
       "3  A-4  Source2         3  2016-02-08 07:23:34  2016-02-08 07:53:34   \n",
       "4  A-5  Source2         2  2016-02-08 07:39:07  2016-02-08 08:09:07   \n",
       "\n",
       "   Start_Lat  Start_Lng  End_Lat  End_Lng  Distance(mi)  ... Roundabout  \\\n",
       "0  39.865147 -84.058723      NaN      NaN          0.01  ...      False   \n",
       "1  39.928059 -82.831184      NaN      NaN          0.01  ...      False   \n",
       "2  39.063148 -84.032608      NaN      NaN          0.01  ...      False   \n",
       "3  39.747753 -84.205582      NaN      NaN          0.01  ...      False   \n",
       "4  39.627781 -84.188354      NaN      NaN          0.01  ...      False   \n",
       "\n",
       "  Station   Stop Traffic_Calming Traffic_Signal Turning_Loop Sunrise_Sunset  \\\n",
       "0   False  False           False          False        False          Night   \n",
       "1   False  False           False          False        False          Night   \n",
       "2   False  False           False           True        False          Night   \n",
       "3   False  False           False          False        False          Night   \n",
       "4   False  False           False           True        False            Day   \n",
       "\n",
       "  Civil_Twilight Nautical_Twilight Astronomical_Twilight  \n",
       "0          Night             Night                 Night  \n",
       "1          Night             Night                   Day  \n",
       "2          Night               Day                   Day  \n",
       "3            Day               Day                   Day  \n",
       "4            Day               Day                   Day  \n",
       "\n",
       "[5 rows x 46 columns]"
      ]
     },
     "execution_count": 5,
     "metadata": {},
     "output_type": "execute_result"
    }
   ],
   "source": [
    "# head of data\n",
    "dataset.head()"
   ]
  },
  {
   "cell_type": "code",
   "execution_count": 6,
   "metadata": {},
   "outputs": [
    {
     "name": "stdout",
     "output_type": "stream",
     "text": [
      "<class 'pandas.core.frame.DataFrame'>\n",
      "RangeIndex: 7728394 entries, 0 to 7728393\n",
      "Data columns (total 46 columns):\n",
      " #   Column                 Dtype  \n",
      "---  ------                 -----  \n",
      " 0   ID                     object \n",
      " 1   Source                 object \n",
      " 2   Severity               int64  \n",
      " 3   Start_Time             object \n",
      " 4   End_Time               object \n",
      " 5   Start_Lat              float64\n",
      " 6   Start_Lng              float64\n",
      " 7   End_Lat                float64\n",
      " 8   End_Lng                float64\n",
      " 9   Distance(mi)           float64\n",
      " 10  Description            object \n",
      " 11  Street                 object \n",
      " 12  City                   object \n",
      " 13  County                 object \n",
      " 14  State                  object \n",
      " 15  Zipcode                object \n",
      " 16  Country                object \n",
      " 17  Timezone               object \n",
      " 18  Airport_Code           object \n",
      " 19  Weather_Timestamp      object \n",
      " 20  Temperature(F)         float64\n",
      " 21  Wind_Chill(F)          float64\n",
      " 22  Humidity(%)            float64\n",
      " 23  Pressure(in)           float64\n",
      " 24  Visibility(mi)         float64\n",
      " 25  Wind_Direction         object \n",
      " 26  Wind_Speed(mph)        float64\n",
      " 27  Precipitation(in)      float64\n",
      " 28  Weather_Condition      object \n",
      " 29  Amenity                bool   \n",
      " 30  Bump                   bool   \n",
      " 31  Crossing               bool   \n",
      " 32  Give_Way               bool   \n",
      " 33  Junction               bool   \n",
      " 34  No_Exit                bool   \n",
      " 35  Railway                bool   \n",
      " 36  Roundabout             bool   \n",
      " 37  Station                bool   \n",
      " 38  Stop                   bool   \n",
      " 39  Traffic_Calming        bool   \n",
      " 40  Traffic_Signal         bool   \n",
      " 41  Turning_Loop           bool   \n",
      " 42  Sunrise_Sunset         object \n",
      " 43  Civil_Twilight         object \n",
      " 44  Nautical_Twilight      object \n",
      " 45  Astronomical_Twilight  object \n",
      "dtypes: bool(13), float64(12), int64(1), object(20)\n",
      "memory usage: 2.0+ GB\n"
     ]
    }
   ],
   "source": [
    "# info about data\n",
    "dataset.info()"
   ]
  },
  {
   "cell_type": "code",
   "execution_count": 7,
   "metadata": {},
   "outputs": [
    {
     "data": {
      "text/html": [
       "<div>\n",
       "<style scoped>\n",
       "    .dataframe tbody tr th:only-of-type {\n",
       "        vertical-align: middle;\n",
       "    }\n",
       "\n",
       "    .dataframe tbody tr th {\n",
       "        vertical-align: top;\n",
       "    }\n",
       "\n",
       "    .dataframe thead th {\n",
       "        text-align: right;\n",
       "    }\n",
       "</style>\n",
       "<table border=\"1\" class=\"dataframe\">\n",
       "  <thead>\n",
       "    <tr style=\"text-align: right;\">\n",
       "      <th></th>\n",
       "      <th>count</th>\n",
       "      <th>mean</th>\n",
       "      <th>std</th>\n",
       "      <th>min</th>\n",
       "      <th>25%</th>\n",
       "      <th>50%</th>\n",
       "      <th>75%</th>\n",
       "      <th>max</th>\n",
       "    </tr>\n",
       "  </thead>\n",
       "  <tbody>\n",
       "    <tr>\n",
       "      <th>Severity</th>\n",
       "      <td>7728394.0</td>\n",
       "      <td>2.212384</td>\n",
       "      <td>0.487531</td>\n",
       "      <td>1.000000</td>\n",
       "      <td>2.000000</td>\n",
       "      <td>2.000000</td>\n",
       "      <td>2.000000</td>\n",
       "      <td>4.000000</td>\n",
       "    </tr>\n",
       "    <tr>\n",
       "      <th>Start_Lat</th>\n",
       "      <td>7728394.0</td>\n",
       "      <td>36.201195</td>\n",
       "      <td>5.076079</td>\n",
       "      <td>24.554800</td>\n",
       "      <td>33.399631</td>\n",
       "      <td>35.823974</td>\n",
       "      <td>40.084959</td>\n",
       "      <td>49.002201</td>\n",
       "    </tr>\n",
       "    <tr>\n",
       "      <th>Start_Lng</th>\n",
       "      <td>7728394.0</td>\n",
       "      <td>-94.702545</td>\n",
       "      <td>17.391756</td>\n",
       "      <td>-124.623833</td>\n",
       "      <td>-117.219396</td>\n",
       "      <td>-87.766616</td>\n",
       "      <td>-80.353676</td>\n",
       "      <td>-67.113167</td>\n",
       "    </tr>\n",
       "    <tr>\n",
       "      <th>End_Lat</th>\n",
       "      <td>4325632.0</td>\n",
       "      <td>36.261829</td>\n",
       "      <td>5.272905</td>\n",
       "      <td>24.566013</td>\n",
       "      <td>33.462070</td>\n",
       "      <td>36.183495</td>\n",
       "      <td>40.178920</td>\n",
       "      <td>49.075000</td>\n",
       "    </tr>\n",
       "    <tr>\n",
       "      <th>End_Lng</th>\n",
       "      <td>4325632.0</td>\n",
       "      <td>-95.725570</td>\n",
       "      <td>18.107928</td>\n",
       "      <td>-124.545748</td>\n",
       "      <td>-117.754345</td>\n",
       "      <td>-88.027890</td>\n",
       "      <td>-80.247086</td>\n",
       "      <td>-67.109242</td>\n",
       "    </tr>\n",
       "    <tr>\n",
       "      <th>Distance(mi)</th>\n",
       "      <td>7728394.0</td>\n",
       "      <td>0.561842</td>\n",
       "      <td>1.776811</td>\n",
       "      <td>0.000000</td>\n",
       "      <td>0.000000</td>\n",
       "      <td>0.030000</td>\n",
       "      <td>0.464000</td>\n",
       "      <td>441.750000</td>\n",
       "    </tr>\n",
       "    <tr>\n",
       "      <th>Temperature(F)</th>\n",
       "      <td>7564541.0</td>\n",
       "      <td>61.663286</td>\n",
       "      <td>19.013653</td>\n",
       "      <td>-89.000000</td>\n",
       "      <td>49.000000</td>\n",
       "      <td>64.000000</td>\n",
       "      <td>76.000000</td>\n",
       "      <td>207.000000</td>\n",
       "    </tr>\n",
       "    <tr>\n",
       "      <th>Wind_Chill(F)</th>\n",
       "      <td>5729375.0</td>\n",
       "      <td>58.251048</td>\n",
       "      <td>22.389832</td>\n",
       "      <td>-89.000000</td>\n",
       "      <td>43.000000</td>\n",
       "      <td>62.000000</td>\n",
       "      <td>75.000000</td>\n",
       "      <td>207.000000</td>\n",
       "    </tr>\n",
       "    <tr>\n",
       "      <th>Humidity(%)</th>\n",
       "      <td>7554250.0</td>\n",
       "      <td>64.831041</td>\n",
       "      <td>22.820968</td>\n",
       "      <td>1.000000</td>\n",
       "      <td>48.000000</td>\n",
       "      <td>67.000000</td>\n",
       "      <td>84.000000</td>\n",
       "      <td>100.000000</td>\n",
       "    </tr>\n",
       "    <tr>\n",
       "      <th>Pressure(in)</th>\n",
       "      <td>7587715.0</td>\n",
       "      <td>29.538986</td>\n",
       "      <td>1.006190</td>\n",
       "      <td>0.000000</td>\n",
       "      <td>29.370000</td>\n",
       "      <td>29.860000</td>\n",
       "      <td>30.030000</td>\n",
       "      <td>58.630000</td>\n",
       "    </tr>\n",
       "    <tr>\n",
       "      <th>Visibility(mi)</th>\n",
       "      <td>7551296.0</td>\n",
       "      <td>9.090376</td>\n",
       "      <td>2.688316</td>\n",
       "      <td>0.000000</td>\n",
       "      <td>10.000000</td>\n",
       "      <td>10.000000</td>\n",
       "      <td>10.000000</td>\n",
       "      <td>140.000000</td>\n",
       "    </tr>\n",
       "    <tr>\n",
       "      <th>Wind_Speed(mph)</th>\n",
       "      <td>7157161.0</td>\n",
       "      <td>7.685490</td>\n",
       "      <td>5.424983</td>\n",
       "      <td>0.000000</td>\n",
       "      <td>4.600000</td>\n",
       "      <td>7.000000</td>\n",
       "      <td>10.400000</td>\n",
       "      <td>1087.000000</td>\n",
       "    </tr>\n",
       "    <tr>\n",
       "      <th>Precipitation(in)</th>\n",
       "      <td>5524808.0</td>\n",
       "      <td>0.008407</td>\n",
       "      <td>0.110225</td>\n",
       "      <td>0.000000</td>\n",
       "      <td>0.000000</td>\n",
       "      <td>0.000000</td>\n",
       "      <td>0.000000</td>\n",
       "      <td>36.470000</td>\n",
       "    </tr>\n",
       "  </tbody>\n",
       "</table>\n",
       "</div>"
      ],
      "text/plain": [
       "                       count       mean        std         min         25%  \\\n",
       "Severity           7728394.0   2.212384   0.487531    1.000000    2.000000   \n",
       "Start_Lat          7728394.0  36.201195   5.076079   24.554800   33.399631   \n",
       "Start_Lng          7728394.0 -94.702545  17.391756 -124.623833 -117.219396   \n",
       "End_Lat            4325632.0  36.261829   5.272905   24.566013   33.462070   \n",
       "End_Lng            4325632.0 -95.725570  18.107928 -124.545748 -117.754345   \n",
       "Distance(mi)       7728394.0   0.561842   1.776811    0.000000    0.000000   \n",
       "Temperature(F)     7564541.0  61.663286  19.013653  -89.000000   49.000000   \n",
       "Wind_Chill(F)      5729375.0  58.251048  22.389832  -89.000000   43.000000   \n",
       "Humidity(%)        7554250.0  64.831041  22.820968    1.000000   48.000000   \n",
       "Pressure(in)       7587715.0  29.538986   1.006190    0.000000   29.370000   \n",
       "Visibility(mi)     7551296.0   9.090376   2.688316    0.000000   10.000000   \n",
       "Wind_Speed(mph)    7157161.0   7.685490   5.424983    0.000000    4.600000   \n",
       "Precipitation(in)  5524808.0   0.008407   0.110225    0.000000    0.000000   \n",
       "\n",
       "                         50%        75%          max  \n",
       "Severity            2.000000   2.000000     4.000000  \n",
       "Start_Lat          35.823974  40.084959    49.002201  \n",
       "Start_Lng         -87.766616 -80.353676   -67.113167  \n",
       "End_Lat            36.183495  40.178920    49.075000  \n",
       "End_Lng           -88.027890 -80.247086   -67.109242  \n",
       "Distance(mi)        0.030000   0.464000   441.750000  \n",
       "Temperature(F)     64.000000  76.000000   207.000000  \n",
       "Wind_Chill(F)      62.000000  75.000000   207.000000  \n",
       "Humidity(%)        67.000000  84.000000   100.000000  \n",
       "Pressure(in)       29.860000  30.030000    58.630000  \n",
       "Visibility(mi)     10.000000  10.000000   140.000000  \n",
       "Wind_Speed(mph)     7.000000  10.400000  1087.000000  \n",
       "Precipitation(in)   0.000000   0.000000    36.470000  "
      ]
     },
     "execution_count": 7,
     "metadata": {},
     "output_type": "execute_result"
    }
   ],
   "source": [
    "# describe the data\n",
    "dataset.describe().T"
   ]
  },
  {
   "cell_type": "code",
   "execution_count": 8,
   "metadata": {},
   "outputs": [
    {
     "name": "stdout",
     "output_type": "stream",
     "text": [
      " Percentage of Missing Values \n",
      " End_Lng                  44.029355\n",
      "End_Lat                  44.029355\n",
      "Precipitation(in)        28.512858\n",
      "Wind_Chill(F)            25.865904\n",
      "Wind_Speed(mph)           7.391355\n",
      "Visibility(mi)            2.291524\n",
      "Wind_Direction            2.267043\n",
      "Humidity(%)               2.253301\n",
      "Weather_Condition         2.244438\n",
      "Temperature(F)            2.120143\n",
      "Pressure(in)              1.820288\n",
      "Weather_Timestamp         1.555666\n",
      "Sunrise_Sunset            0.300787\n",
      "Civil_Twilight            0.300787\n",
      "Astronomical_Twilight     0.300787\n",
      "Nautical_Twilight         0.300787\n",
      "Airport_Code              0.292881\n",
      "Street                    0.140637\n",
      "Timezone                  0.101030\n",
      "Zipcode                   0.024779\n",
      "City                      0.003274\n",
      "Description               0.000065\n",
      "dtype: float64\n"
     ]
    }
   ],
   "source": [
    "# Percentage of missing values in the data\n",
    "missing_values = dataset.isna().sum().sort_values(ascending=False)\n",
    "missing_percentage = missing_values[missing_values!=0]/len(data)*100\n",
    "print(\" Percentage of Missing Values \\n\", missing_percentage)"
   ]
  },
  {
   "cell_type": "code",
   "execution_count": 9,
   "metadata": {},
   "outputs": [
    {
     "data": {
      "text/plain": [
       "(7728394, 44)"
      ]
     },
     "execution_count": 9,
     "metadata": {},
     "output_type": "execute_result"
    }
   ],
   "source": [
    "# drop columns with more than 40% missing values\n",
    "dataset_new = dataset.dropna(thresh=len(data)*0.6, axis=1) # removes End_Lat, End_Lng columns  \n",
    "dataset_new.shape"
   ]
  },
  {
   "cell_type": "code",
   "execution_count": 10,
   "metadata": {},
   "outputs": [
    {
     "data": {
      "text/plain": [
       "Index(['ID', 'Source', 'Severity', 'Start_Time', 'End_Time', 'Start_Lat',\n",
       "       'Start_Lng', 'Distance(mi)', 'Description', 'Street', 'City', 'County',\n",
       "       'State', 'Zipcode', 'Country', 'Timezone', 'Airport_Code',\n",
       "       'Weather_Timestamp', 'Temperature(F)', 'Wind_Chill(F)', 'Humidity(%)',\n",
       "       'Pressure(in)', 'Visibility(mi)', 'Wind_Direction', 'Wind_Speed(mph)',\n",
       "       'Precipitation(in)', 'Weather_Condition', 'Amenity', 'Bump', 'Crossing',\n",
       "       'Give_Way', 'Junction', 'No_Exit', 'Railway', 'Roundabout', 'Station',\n",
       "       'Stop', 'Traffic_Calming', 'Traffic_Signal', 'Turning_Loop',\n",
       "       'Sunrise_Sunset', 'Civil_Twilight', 'Nautical_Twilight',\n",
       "       'Astronomical_Twilight'],\n",
       "      dtype='object')"
      ]
     },
     "execution_count": 10,
     "metadata": {},
     "output_type": "execute_result"
    }
   ],
   "source": [
    "dataset_new.columns"
   ]
  },
  {
   "cell_type": "code",
   "execution_count": 11,
   "metadata": {},
   "outputs": [
    {
     "data": {
      "text/plain": [
       "ID                             0\n",
       "Source                         0\n",
       "Severity                       0\n",
       "Start_Time                     0\n",
       "End_Time                       0\n",
       "Start_Lat                      0\n",
       "Start_Lng                      0\n",
       "Distance(mi)                   0\n",
       "Description                    0\n",
       "Street                         0\n",
       "City                           0\n",
       "County                         0\n",
       "State                          0\n",
       "Zipcode                        0\n",
       "Country                        0\n",
       "Timezone                       0\n",
       "Airport_Code                   0\n",
       "Weather_Timestamp              0\n",
       "Temperature(F)                 0\n",
       "Wind_Chill(F)            1769890\n",
       "Humidity(%)                    0\n",
       "Pressure(in)                   0\n",
       "Visibility(mi)                 0\n",
       "Wind_Direction                 0\n",
       "Wind_Speed(mph)           375173\n",
       "Precipitation(in)        2039318\n",
       "Weather_Condition              0\n",
       "Amenity                        0\n",
       "Bump                           0\n",
       "Crossing                       0\n",
       "Give_Way                       0\n",
       "Junction                       0\n",
       "No_Exit                        0\n",
       "Railway                        0\n",
       "Roundabout                     0\n",
       "Station                        0\n",
       "Stop                           0\n",
       "Traffic_Calming                0\n",
       "Traffic_Signal                 0\n",
       "Turning_Loop                   0\n",
       "Sunrise_Sunset                 0\n",
       "Civil_Twilight                 0\n",
       "Nautical_Twilight              0\n",
       "Astronomical_Twilight          0\n",
       "dtype: int64"
      ]
     },
     "execution_count": 11,
     "metadata": {},
     "output_type": "execute_result"
    }
   ],
   "source": [
    "# Drop Rows w.r.t to columns having least percentage of missing values\n",
    "columns_to_check = ['Visibility(mi)', 'Wind_Direction', 'Humidity(%)', 'Weather_Condition', \n",
    "                    'Temperature(F)', 'Pressure(in)', 'Weather_Timestamp', \n",
    "                    'Nautical_Twilight', 'Civil_Twilight', 'Sunrise_Sunset', \n",
    "                    'Astronomical_Twilight', 'Airport_Code', 'Street', 'Timezone', \n",
    "                    'Zipcode', 'City', 'Description']\n",
    "dataset_new = dataset_new.dropna(subset=columns_to_check)\n",
    "\n",
    "dataset_new.isnull().sum()"
   ]
  },
  {
   "cell_type": "code",
   "execution_count": 12,
   "metadata": {},
   "outputs": [
    {
     "name": "stdout",
     "output_type": "stream",
     "text": [
      "Weather_Condition\n",
      "Heavy Smoke     True\n",
      "Volcanic Ash    True\n",
      "Name: Wind_Speed(mph), dtype: bool\n"
     ]
    }
   ],
   "source": [
    "# check if any weather condition has all missing values\n",
    "empty_groups = dataset_new.groupby('Weather_Condition')['Wind_Speed(mph)'].apply(lambda x: x.isna().all())\n",
    "print(empty_groups[empty_groups])"
   ]
  },
  {
   "cell_type": "code",
   "execution_count": 13,
   "metadata": {},
   "outputs": [
    {
     "data": {
      "text/plain": [
       "np.int64(0)"
      ]
     },
     "execution_count": 13,
     "metadata": {},
     "output_type": "execute_result"
    }
   ],
   "source": [
    "# Fill wind speed with overall mean\n",
    "overall_mean_wind_speed = dataset_new['Wind_Speed(mph)'].mean()\n",
    "dataset_new.fillna({'Wind_Speed(mph)': overall_mean_wind_speed}, inplace=True)\n",
    "\n",
    "# check null values in wind speed\n",
    "dataset_new['Wind_Speed(mph)'].isnull().sum()"
   ]
  },
  {
   "cell_type": "code",
   "execution_count": 14,
   "metadata": {},
   "outputs": [
    {
     "data": {
      "text/plain": [
       "np.int64(0)"
      ]
     },
     "execution_count": 14,
     "metadata": {},
     "output_type": "execute_result"
    }
   ],
   "source": [
    "# Filing missing values in wind chill with combination on formulae and mean\n",
    "def calculate_wind_chill(temp, wind_speed):\n",
    "        return 35.74 + 0.6215 * temp - 35.75 * (wind_speed ** 0.16) + 0.4275 * temp * (wind_speed ** 0.16)\n",
    "    \n",
    "\n",
    "# Fill missing Wind_Chill(F) with calculated values\n",
    "dataset_new['Wind_Chill(F)_calculated'] = dataset_new.apply(lambda row: calculate_wind_chill(row['Temperature(F)'], row['Wind_Speed(mph)']), axis=1)\n",
    "dataset_new['Wind_Chill(F)'] = dataset_new['Wind_Chill(F)'].fillna(dataset_new['Wind_Chill(F)_calculated'])\n",
    "\n",
    "# Drop the helper column for calculated wind chill\n",
    "dataset_new.drop(columns=['Wind_Chill(F)_calculated'], inplace=True)\n",
    "\n",
    "# check null values in wind chill\n",
    "dataset_new['Wind_Chill(F)'].isnull().sum()"
   ]
  },
  {
   "cell_type": "code",
   "execution_count": 15,
   "metadata": {},
   "outputs": [
    {
     "name": "stdout",
     "output_type": "stream",
     "text": [
      "ID                             0\n",
      "Source                         0\n",
      "Severity                       0\n",
      "Start_Time                     0\n",
      "End_Time                       0\n",
      "Start_Lat                      0\n",
      "Start_Lng                      0\n",
      "Distance(mi)                   0\n",
      "Description                    0\n",
      "Street                         0\n",
      "City                           0\n",
      "County                         0\n",
      "State                          0\n",
      "Zipcode                        0\n",
      "Country                        0\n",
      "Timezone                       0\n",
      "Airport_Code                   0\n",
      "Weather_Timestamp              0\n",
      "Temperature(F)                 0\n",
      "Wind_Chill(F)                  0\n",
      "Humidity(%)                    0\n",
      "Pressure(in)                   0\n",
      "Visibility(mi)                 0\n",
      "Wind_Direction                 0\n",
      "Wind_Speed(mph)                0\n",
      "Precipitation(in)        2039318\n",
      "Weather_Condition              0\n",
      "Amenity                        0\n",
      "Bump                           0\n",
      "Crossing                       0\n",
      "Give_Way                       0\n",
      "Junction                       0\n",
      "No_Exit                        0\n",
      "Railway                        0\n",
      "Roundabout                     0\n",
      "Station                        0\n",
      "Stop                           0\n",
      "Traffic_Calming                0\n",
      "Traffic_Signal                 0\n",
      "Turning_Loop                   0\n",
      "Sunrise_Sunset                 0\n",
      "Civil_Twilight                 0\n",
      "Nautical_Twilight              0\n",
      "Astronomical_Twilight          0\n",
      "dtype: int64\n"
     ]
    }
   ],
   "source": [
    "print(dataset_new.isna().sum())"
   ]
  },
  {
   "cell_type": "code",
   "execution_count": 16,
   "metadata": {},
   "outputs": [],
   "source": [
    "overall_median_precipitation = dataset_new['Precipitation(in)'].median()\n",
    "dataset_new.fillna({'Precipitation(in)': overall_median_precipitation}, inplace=True)"
   ]
  },
  {
   "cell_type": "code",
   "execution_count": 17,
   "metadata": {},
   "outputs": [
    {
     "data": {
      "text/plain": [
       "ID                       0\n",
       "Source                   0\n",
       "Severity                 0\n",
       "Start_Time               0\n",
       "End_Time                 0\n",
       "Start_Lat                0\n",
       "Start_Lng                0\n",
       "Distance(mi)             0\n",
       "Description              0\n",
       "Street                   0\n",
       "City                     0\n",
       "County                   0\n",
       "State                    0\n",
       "Zipcode                  0\n",
       "Country                  0\n",
       "Timezone                 0\n",
       "Airport_Code             0\n",
       "Weather_Timestamp        0\n",
       "Temperature(F)           0\n",
       "Wind_Chill(F)            0\n",
       "Humidity(%)              0\n",
       "Pressure(in)             0\n",
       "Visibility(mi)           0\n",
       "Wind_Direction           0\n",
       "Wind_Speed(mph)          0\n",
       "Precipitation(in)        0\n",
       "Weather_Condition        0\n",
       "Amenity                  0\n",
       "Bump                     0\n",
       "Crossing                 0\n",
       "Give_Way                 0\n",
       "Junction                 0\n",
       "No_Exit                  0\n",
       "Railway                  0\n",
       "Roundabout               0\n",
       "Station                  0\n",
       "Stop                     0\n",
       "Traffic_Calming          0\n",
       "Traffic_Signal           0\n",
       "Turning_Loop             0\n",
       "Sunrise_Sunset           0\n",
       "Civil_Twilight           0\n",
       "Nautical_Twilight        0\n",
       "Astronomical_Twilight    0\n",
       "dtype: int64"
      ]
     },
     "execution_count": 17,
     "metadata": {},
     "output_type": "execute_result"
    }
   ],
   "source": [
    "# check the null values in dataset_new \n",
    "dataset_new.isnull().sum()"
   ]
  },
  {
   "cell_type": "code",
   "execution_count": 18,
   "metadata": {},
   "outputs": [],
   "source": [
    "# drop id, description, source columns\n",
    "dataset_new.drop(columns=['ID', 'Description', 'Source'], inplace=True)"
   ]
  },
  {
   "cell_type": "code",
   "execution_count": 19,
   "metadata": {},
   "outputs": [
    {
     "data": {
      "text/plain": [
       "Index(['Severity', 'Start_Time', 'End_Time', 'Start_Lat', 'Start_Lng',\n",
       "       'Distance(mi)', 'Street', 'City', 'County', 'State', 'Zipcode',\n",
       "       'Country', 'Timezone', 'Airport_Code', 'Weather_Timestamp',\n",
       "       'Temperature(F)', 'Wind_Chill(F)', 'Humidity(%)', 'Pressure(in)',\n",
       "       'Visibility(mi)', 'Wind_Direction', 'Wind_Speed(mph)',\n",
       "       'Precipitation(in)', 'Weather_Condition', 'Amenity', 'Bump', 'Crossing',\n",
       "       'Give_Way', 'Junction', 'No_Exit', 'Railway', 'Roundabout', 'Station',\n",
       "       'Stop', 'Traffic_Calming', 'Traffic_Signal', 'Turning_Loop',\n",
       "       'Sunrise_Sunset', 'Civil_Twilight', 'Nautical_Twilight',\n",
       "       'Astronomical_Twilight'],\n",
       "      dtype='object')"
      ]
     },
     "execution_count": 19,
     "metadata": {},
     "output_type": "execute_result"
    }
   ],
   "source": [
    "# Give me the columna names\n",
    "dataset_new.columns\n"
   ]
  },
  {
   "cell_type": "code",
   "execution_count": 20,
   "metadata": {},
   "outputs": [
    {
     "data": {
      "text/plain": [
       "array(['Night', 'Day'], dtype=object)"
      ]
     },
     "execution_count": 20,
     "metadata": {},
     "output_type": "execute_result"
    }
   ],
   "source": [
    "# unique values in civil twilight\n",
    "dataset_new['Civil_Twilight'].unique()"
   ]
  },
  {
   "cell_type": "code",
   "execution_count": 25,
   "metadata": {},
   "outputs": [],
   "source": [
    "# Choose only 100000 rows from the dataset\n",
    "db_dataset = dataset_new.sample(n=100000, random_state=42)"
   ]
  },
  {
   "cell_type": "code",
   "execution_count": 26,
   "metadata": {},
   "outputs": [],
   "source": [
    "data_local = dataset_new.sample(n=100000, random_state=42)\n",
    "data_local.columns = [\n",
    "    'Severity', 'Start_Time', 'End_Time', 'Start_Lat',\n",
    "    'Start_Lng', 'Distance_mi', 'Street', 'City', 'County', 'State',\n",
    "    'Zipcode', 'Country', 'Timezone', 'Airport_Code', 'Weather_Timestamp',\n",
    "    'Temperature_F', 'Wind_Chill_F', 'Humidity', 'Pressure_in',\n",
    "    'Visibility_mi', 'Wind_Direction', 'Wind_Speed_mph',\n",
    "    'Precipitation_in', 'Weather_Condition', 'Amenity', 'Bump', 'Crossing',\n",
    "    'Give_Way', 'Junction', 'No_Exit', 'Railway', 'Roundabout', 'Station',\n",
    "    'Stop', 'Traffic_Calming', 'Traffic_Signal', 'Turning_Loop',\n",
    "    'Sunrise_Sunset', 'Civil_Twilight', 'Nautical_Twilight',\n",
    "    'Astronomical_Twilight'\n",
    "]\n",
    "data_local.to_csv('data.csv', index=False)"
   ]
  },
  {
   "cell_type": "markdown",
   "metadata": {},
   "source": [
    "# Connect to MySQL Database"
   ]
  },
  {
   "cell_type": "code",
   "execution_count": 27,
   "metadata": {},
   "outputs": [
    {
     "name": "stdout",
     "output_type": "stream",
     "text": [
      "Data loaded successfully!\n"
     ]
    },
    {
     "name": "stderr",
     "output_type": "stream",
     "text": [
      "C:\\Users\\krishnateja\\AppData\\Local\\Temp\\ipykernel_2200\\3453054967.py:35: UserWarning: The provided table name 'IncidentReports' is not found exactly as such in the database after writing the table, possibly due to case sensitivity issues. Consider using lower case table names.\n",
      "  db_dataset.to_sql('IncidentReports', con=engine, if_exists='append', index=False, chunksize=1000)\n"
     ]
    }
   ],
   "source": [
    "from sqlalchemy import create_engine\n",
    "from sqlalchemy.orm import sessionmaker\n",
    "\n",
    "\n",
    "# Database connection parameters\n",
    "username = 'root'  # replace with your username\n",
    "password = '1234'  # replace with your password\n",
    "host = 'localhost'  # or your database host\n",
    "port = '3306'  # or your database port\n",
    "database = 'cats'  # your database name\n",
    "\n",
    "connection_string = f'mysql+mysqlconnector://{username}:{password}@{host}:{port}/{database}'\n",
    "engine = create_engine(connection_string)\n",
    "\n",
    "Session = sessionmaker(bind=engine)\n",
    "session = Session()\n",
    "\n",
    "db_dataset.columns = [\n",
    "    'Severity', 'Start_Time', 'End_Time', 'Start_Lat',\n",
    "    'Start_Lng', 'Distance_mi', 'Street', 'City', 'County', 'State',\n",
    "    'Zipcode', 'Country', 'Timezone', 'Airport_Code', 'Weather_Timestamp',\n",
    "    'Temperature_F', 'Wind_Chill_F', 'Humidity', 'Pressure_in',\n",
    "    'Visibility_mi', 'Wind_Direction', 'Wind_Speed_mph',\n",
    "    'Precipitation_in', 'Weather_Condition', 'Amenity', 'Bump', 'Crossing',\n",
    "    'Give_Way', 'Junction', 'No_Exit', 'Railway', 'Roundabout', 'Station',\n",
    "    'Stop', 'Traffic_Calming', 'Traffic_Signal', 'Turning_Loop',\n",
    "    'Sunrise_Sunset', 'Civil_Twilight', 'Nautical_Twilight',\n",
    "    'Astronomical_Twilight'\n",
    "]\n",
    "\n",
    "try:\n",
    "    db_dataset.to_sql('IncidentReports', con=engine, if_exists='append', index=False, chunksize=1000)\n",
    "    session.commit()  # Explicitly commit the transaction\n",
    "    print(\"Data loaded successfully!\")\n",
    "except Exception as e:\n",
    "    session.rollback()  # Rollback the transaction in case of failure\n",
    "    print(\"Error loading data into SQL:\", e)"
   ]
  },
  {
   "cell_type": "markdown",
   "metadata": {},
   "source": [
    "## Method to Load complete dataset into the MySQL DB"
   ]
  },
  {
   "cell_type": "code",
   "execution_count": 24,
   "metadata": {},
   "outputs": [],
   "source": [
    "# connection_string = f'mysql+mysqlconnector://{username}:{password}@{host}:{port}/{database}?allow_local_infile=true'\n",
    "# dataset_new.to_csv('data.csv', index=False)\n",
    "\n",
    "# Execute LOAD DATA INFILE using SQLAlchemy connection\n",
    "# with engine.connect() as connection:\n",
    "#     try:\n",
    "#         # Adjust the path as necessary\n",
    "#         sql_command = text(\"LOAD DATA LOCAL INFILE 'C:/ProgramData/MySQL/MySQL Server 8.0/Uploads/data.csv' INTO TABLE IncidentReports FIELDS TERMINATED BY ','\")\n",
    "#         connection.execute(sql_command)        \n",
    "#         print(\"Data loaded successfully!\")\n",
    "#     except Exception as e:\n",
    "#         print(\"Error loading data:\", e)\n",
    "\n",
    "\n",
    "####### ISSUE ###############\n",
    "# Error: 20:29:48\tLOAD DATA INFILE 'data.csv' INTO TABLE IncidentReports FIELDS TERMINATED BY ',' IGNORE 1 LINES\tError Code: 1290. \n",
    "# The MySQL server is running with the --secure-file-priv option so it cannot execute this statement\t0.000 sec\n",
    "# commands to stop and start the sql server\n",
    "# net stop \"mysql80\"\n",
    "# net start \"mysql80"
   ]
  }
 ],
 "metadata": {
  "kernelspec": {
   "display_name": "Python 3",
   "language": "python",
   "name": "python3"
  },
  "language_info": {
   "codemirror_mode": {
    "name": "ipython",
    "version": 3
   },
   "file_extension": ".py",
   "mimetype": "text/x-python",
   "name": "python",
   "nbconvert_exporter": "python",
   "pygments_lexer": "ipython3",
   "version": "3.12.1"
  }
 },
 "nbformat": 4,
 "nbformat_minor": 2
}
